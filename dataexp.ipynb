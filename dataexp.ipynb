{
 "cells": [
  {
   "cell_type": "markdown",
   "metadata": {},
   "source": [
    "# 20171025 - My data exploration lab notes"
   ]
  },
  {
   "cell_type": "markdown",
   "metadata": {},
   "source": [
    "# Code Like a Pythonista"
   ]
  },
  {
   "cell_type": "markdown",
   "metadata": {},
   "source": [
    "### Iterating over list/set/dict"
   ]
  },
  {
   "cell_type": "code",
   "execution_count": 4,
   "metadata": {},
   "outputs": [
    {
     "name": "stdout",
     "output_type": "stream",
     "text": [
      "dog\n",
      "monkey\n",
      "cat\n",
      "fish\n"
     ]
    }
   ],
   "source": [
    "# Iterating over set\n",
    "animals = {'cat', 'dog', 'fish', 'monkey'}\n",
    "for animal in animals:\n",
    "    print('{}'.format(animal))"
   ]
  },
  {
   "cell_type": "code",
   "execution_count": 2,
   "metadata": {},
   "outputs": [
    {
     "name": "stdout",
     "output_type": "stream",
     "text": [
      "0: cat\n",
      "1: monkey\n",
      "2: dog\n",
      "3: fish\n"
     ]
    }
   ],
   "source": [
    "# Iterating over set (and generating an index)\n",
    "animals = {'cat', 'dog', 'fish', 'monkey'}\n",
    "for idx, animal in enumerate(animals):\n",
    "    print('{}: {}'.format(idx,animal))"
   ]
  },
  {
   "cell_type": "markdown",
   "metadata": {},
   "source": [
    "### List/Set/Dict Comprehensions\n",
    "\n",
    "Python supports list comprehensions, that can be used to construct lists in a very natural way, similar to mathematic construction.\n",
    "\n",
    "\n",
    "[ output_expression() for(set of values to iterate) if(conditional filtering) ]\n"
   ]
  },
  {
   "cell_type": "code",
   "execution_count": 3,
   "metadata": {},
   "outputs": [
    {
     "name": "stdout",
     "output_type": "stream",
     "text": [
      "[0, 1, 4, 9, 16, 25, 36, 49, 64, 81]\n",
      "[0, 4, 16, 36, 64]\n",
      "{0, 1, 2, 3, 4, 5, 6, 7, 8, 9}\n",
      "{'a': 17, 'b': 34, 'z': 3}\n",
      "{'Alice', 'John', 'Bob'}\n",
      "[[1, 0, 0], [0, 1, 0], [0, 0, 1]]\n"
     ]
    }
   ],
   "source": [
    "#List comprehension\n",
    "list1 = [x**2 for x in range(10)]\n",
    "print(list1)\n",
    "\n",
    "list2 = [x for x in list1 if x % 2 == 0]\n",
    "print(list2)\n",
    "\n",
    "#Set comprehension\n",
    "nums = {x for x in range(10)}\n",
    "print(nums)  # Prints \"{0, 1, 2, 3, 4, 5}\"\n",
    "\n",
    "#Dict comprehension\n",
    "mcase = {'a':10, 'b': 34, 'A': 7, 'Z':3}\n",
    "mcase_frequency = { k.lower() : mcase.get(k.lower(), 0) + mcase.get(k.upper(), 0) for k in mcase.keys() }\n",
    "print(mcase_frequency)\n",
    "\n",
    "#Set comprehension from list\n",
    "names = [ 'Bob', 'JOHN', 'alice', 'bob', 'ALICE', 'J', 'Bob' ]\n",
    "names_set = { name[0].upper() + name[1:].lower() for name in names if len(name) > 1 }\n",
    "print(names_set)\n",
    "\n",
    "#Nested list comprehension\n",
    "matrix = [ [ 1 if item_idx == row_idx else 0 for item_idx in range(0, 3) ] for row_idx in range(0, 3) ]\n",
    "print(matrix)"
   ]
  },
  {
   "cell_type": "markdown",
   "metadata": {},
   "source": [
    "### The power of comprehension"
   ]
  },
  {
   "cell_type": "code",
   "execution_count": 4,
   "metadata": {},
   "outputs": [
    {
     "name": "stdout",
     "output_type": "stream",
     "text": [
      "[2, 6, 10, 14, 18, 22, 26, 30, 34, 38]\n",
      "[2, 6, 10, 14, 18, 22, 26, 30, 34, 38]\n"
     ]
    }
   ],
   "source": [
    "numbers = range(20)\n",
    "\n",
    "numbers_doubled_odds = []\n",
    "for n in numbers:\n",
    "    if n%2 == 1:\n",
    "        numbers_doubled_odds.append(n*2)\n",
    "        \n",
    "print(numbers_doubled_odds)\n",
    "\n",
    "#vs\n",
    "\n",
    "numbers_doubled_odds = [n*2 for n in numbers if n%2==1]\n",
    "print(numbers_doubled_odds)"
   ]
  },
  {
   "cell_type": "code",
   "execution_count": 5,
   "metadata": {},
   "outputs": [
    {
     "name": "stdout",
     "output_type": "stream",
     "text": [
      "[2, 3, 5, 7, 11, 13, 17, 19, 23, 29, 31, 37, 41, 43, 47, 53, 59, 61, 67, 71, 73, 79, 83, 89, 97]\n"
     ]
    }
   ],
   "source": [
    "# Calculating prime numbers\n",
    "noprimes = [j for i in range(2, 8) for j in range(i*2, 100, i)]\n",
    "primes = [x for x in range(2, 100) if x not in noprimes]\n",
    "print(primes)"
   ]
  },
  {
   "cell_type": "markdown",
   "metadata": {},
   "source": [
    "# Basic Numpy data structures"
   ]
  },
  {
   "cell_type": "code",
   "execution_count": 3,
   "metadata": {},
   "outputs": [
    {
     "name": "stdout",
     "output_type": "stream",
     "text": [
      "Data in arr1D:\n",
      " [ 1  2  3  4  5  6  7  8  9 10]\n"
     ]
    },
    {
     "data": {
      "text/plain": [
       "array([ 1,  2,  3,  4,  5,  6,  7,  8,  9, 10])"
      ]
     },
     "execution_count": 3,
     "metadata": {},
     "output_type": "execute_result"
    }
   ],
   "source": [
    "import numpy as np\n",
    "\n",
    "array1D = np.array([1,2,3,4,5,6,7,8, 9, 10])\n",
    "\n",
    "#Standard print\n",
    "print('Data in arr1D:\\n', array1D)\n",
    "\n",
    "#The last line is evaluated\n",
    "array1D"
   ]
  },
  {
   "cell_type": "code",
   "execution_count": 7,
   "metadata": {},
   "outputs": [
    {
     "name": "stdout",
     "output_type": "stream",
     "text": [
      "Data in arr2D:\n",
      " [[1 2 3 4]\n",
      " [5 6 7 8]]\n"
     ]
    },
    {
     "data": {
      "text/plain": [
       "array([[1, 2, 3, 4],\n",
       "       [5, 6, 7, 8]])"
      ]
     },
     "execution_count": 7,
     "metadata": {},
     "output_type": "execute_result"
    }
   ],
   "source": [
    "array2D = np.array([[1,2,3,4],[5,6,7,8]])\n",
    "\n",
    "print('Data in arr2D:\\n', array2D)\n",
    "\n",
    "array2D"
   ]
  },
  {
   "cell_type": "code",
   "execution_count": 8,
   "metadata": {},
   "outputs": [
    {
     "name": "stdout",
     "output_type": "stream",
     "text": [
      "[[1 2 3 4]\n",
      " [5 6 7 8]]\n",
      "[[2 3]\n",
      " [6 7]]\n"
     ]
    }
   ],
   "source": [
    "# Slicing works the same as in standard Python\n",
    "\n",
    "array2D = np.array([[1,2,3,4],[5,6,7,8]])\n",
    "print(array2D)\n",
    "\n",
    "mini_array2D = array2D[:2, 1:3]\n",
    "print(mini_array2D)"
   ]
  },
  {
   "cell_type": "markdown",
   "metadata": {},
   "source": [
    "## Creating arrays"
   ]
  },
  {
   "cell_type": "code",
   "execution_count": 9,
   "metadata": {},
   "outputs": [
    {
     "name": "stdout",
     "output_type": "stream",
     "text": [
      "[[ 0.  0.  0.  0.]\n",
      " [ 0.  0.  0.  0.]]\n",
      "[[ 1.  1.  1.  1.]\n",
      " [ 1.  1.  1.  1.]]\n",
      "[[ 0.8  0.8  0.8  0.8]\n",
      " [ 0.8  0.8  0.8  0.8]]\n",
      "[[ 0.32501545  0.64297193  0.04874627  0.06266212]\n",
      " [ 0.11432724  0.95436057  0.62908533  0.3934264 ]]\n",
      "<class 'numpy.ndarray'>\n",
      "(2, 4)\n"
     ]
    }
   ],
   "source": [
    "array2D = np.zeros((2,4))\n",
    "print(array2D)\n",
    "\n",
    "array2D = np.ones((2,4))\n",
    "print(array2D)\n",
    "\n",
    "array2D = np.full((2,4),0.8)\n",
    "print(array2D)\n",
    "\n",
    "array2D = np.random.random((2,4))\n",
    "print(array2D)\n",
    "\n",
    "print(type(array2D))\n",
    "print(array2D.shape)"
   ]
  },
  {
   "cell_type": "markdown",
   "metadata": {},
   "source": [
    "## Changing the shape of arrays"
   ]
  },
  {
   "cell_type": "code",
   "execution_count": 10,
   "metadata": {},
   "outputs": [
    {
     "name": "stdout",
     "output_type": "stream",
     "text": [
      "[ 0  1  2  3  4  5  6  7  8  9 10 11] \n",
      "\n",
      "[[ 0  1  2  3  4  5]\n",
      " [ 6  7  8  9 10 11]] \n",
      "\n",
      "[[ 0  1]\n",
      " [ 2  3]\n",
      " [ 4  5]\n",
      " [ 6  7]\n",
      " [ 8  9]\n",
      " [10 11]] \n",
      "\n",
      "[[[ 0  1  2]\n",
      "  [ 3  4  5]]\n",
      "\n",
      " [[ 6  7  8]\n",
      "  [ 9 10 11]]] \n",
      "\n",
      "[[[ 0  1]\n",
      "  [ 2  3]]\n",
      "\n",
      " [[ 4  5]\n",
      "  [ 6  7]]\n",
      "\n",
      " [[ 8  9]\n",
      "  [10 11]]] \n",
      "\n"
     ]
    }
   ],
   "source": [
    "array1D = np.arange(12)\n",
    "print(array1D,'\\n')\n",
    "\n",
    "array2D = array1D.reshape(2,6) \n",
    "print(array2D,'\\n')\n",
    "\n",
    "array2D = array1D.reshape(6,2) \n",
    "print(array2D,'\\n')\n",
    "\n",
    "array3D = array1D.reshape(2,2,3) \n",
    "print(array3D,'\\n')\n",
    "\n",
    "array3D = array1D.reshape(3,2,2) \n",
    "print(array3D,'\\n')"
   ]
  },
  {
   "cell_type": "markdown",
   "metadata": {},
   "source": [
    "## Statistics"
   ]
  },
  {
   "cell_type": "code",
   "execution_count": 11,
   "metadata": {},
   "outputs": [
    {
     "name": "stdout",
     "output_type": "stream",
     "text": [
      "\n",
      " Numpy 2-dim array\n",
      "[[-1.1839428  -0.21741718  0.53882921 -0.93972791 -0.00536574]\n",
      " [-0.77953016 -1.39369348  0.43391154  1.75583055  0.63506285]\n",
      " [-0.61612479 -0.24083191 -0.06679479 -1.0141208  -1.13434528]\n",
      " [-1.21697223  0.13423646  1.19102279 -0.30689672 -2.67074515]\n",
      " [-0.69371549  0.56665899  0.98500579  1.5485321  -1.41551851]\n",
      " [-1.89053638  0.40846427  0.61951482  0.21856875 -1.46351974]\n",
      " [-0.8184945   1.36496635 -1.02775129 -0.90054897 -1.42747348]\n",
      " [ 0.75081509  1.37481332  0.18073184  0.51331069 -1.6715304 ]\n",
      " [ 0.07554846  0.00961715  1.13330713  1.1623577  -0.03203828]\n",
      " [ 1.13805545 -0.03976235 -0.32644077  0.40495802 -0.5601436 ]]\n",
      "\n",
      " Standard deviation of array\n",
      "0.997877808147\n"
     ]
    }
   ],
   "source": [
    "print('\\n Numpy 2-dim array')\n",
    "tab10n5 = np.random.randn(10,5)\n",
    "\n",
    "print(tab10n5)\n",
    "print('\\n Standard deviation of array')\n",
    "print(np.std(tab10n5))"
   ]
  },
  {
   "cell_type": "code",
   "execution_count": 46,
   "metadata": {},
   "outputs": [
    {
     "name": "stdout",
     "output_type": "stream",
     "text": [
      "Mean =  -0.138197267684 \n",
      "\n",
      "Median =  -0.0359003158142 \n",
      "\n",
      "Minimum =  -2.67074514926 \n",
      "\n",
      "Maksimum =  1.75583055339 \n",
      "\n",
      "DescribeResult(nobs=10, minmax=(array([-1.89053638, -1.39369348, -1.02775129, -1.0141208 , -2.67074515]), array([ 1.13805545,  1.37481332,  1.19102279,  1.75583055,  0.63506285])), mean=array([-0.52348973,  0.19670516,  0.36613363,  0.24422634, -0.97456173]), variance=array([ 0.85772303,  0.6579562 ,  0.48833278,  1.05860641,  0.95747902]), skewness=array([ 0.53768245, -0.19920717, -0.63711911,  0.12373128,  0.05888671]), kurtosis=array([-0.59793037, -0.06890151, -0.41021434, -1.33501497, -0.70196575]))\n"
     ]
    }
   ],
   "source": [
    "#TODO Statistics functions\n",
    "import numpy as np\n",
    "print('Mean = ', np.mean(tab10n5), '\\n')\n",
    "print('Median = ', np.median(tab10n5), '\\n')\n",
    "print('Minimum = ', np.amin(tab10n5), '\\n')\n",
    "print('Maksimum = ', np.amax(tab10n5), '\\n')\n",
    "\n",
    "from scipy import stats\n",
    "print(stats.describe(tab10n5))"
   ]
  },
  {
   "cell_type": "markdown",
   "metadata": {},
   "source": [
    "## Stacking together different arrays\n",
    "\n",
    "Take a quick look at [tutorial](https://docs.scipy.org/doc/numpy-dev/user/quickstart.html)\n",
    "and fill the next cell\n"
   ]
  },
  {
   "cell_type": "code",
   "execution_count": 26,
   "metadata": {},
   "outputs": [
    {
     "name": "stdout",
     "output_type": "stream",
     "text": [
      "a=\n",
      " [[ 5.  3.  7.]\n",
      " [ 1.  0.  7.]\n",
      " [ 7.  0.  9.]] \n",
      "\n",
      " b=\n",
      " [[ 6.  1.  7.]\n",
      " [ 7.  2.  4.]\n",
      " [ 2.  3.  8.]] \n",
      "\n",
      "[[ 5.  3.  7.]\n",
      " [ 1.  0.  7.]\n",
      " [ 7.  0.  9.]\n",
      " [ 6.  1.  7.]\n",
      " [ 7.  2.  4.]\n",
      " [ 2.  3.  8.]] \n",
      "\n",
      "[[ 5.  3.  7.  6.  1.  7.]\n",
      " [ 1.  0.  7.  7.  2.  4.]\n",
      " [ 7.  0.  9.  2.  3.  8.]]\n"
     ]
    }
   ],
   "source": [
    "#TODO stacking arrays\n",
    "a = np.floor(10*np.random.random((3,3)))\n",
    "b = np.floor(10*np.random.random((3,3)))\n",
    "print('a=\\n',a,'\\n\\n b=\\n', b, '\\n')\n",
    "print(np.vstack((a,b)),'\\n')\n",
    "print(np.hstack((a,b)))"
   ]
  },
  {
   "cell_type": "markdown",
   "metadata": {},
   "source": [
    "## Plotting"
   ]
  },
  {
   "cell_type": "code",
   "execution_count": 14,
   "metadata": {},
   "outputs": [
    {
     "data": {
      "image/png": "[encoded data removed]",
      "text/plain": [
       "<matplotlib.figure.Figure at 0x7f5fdde4d438>"
      ]
     },
     "metadata": {},
     "output_type": "display_data"
    }
   ],
   "source": [
    "%matplotlib inline\n",
    "\n",
    "import numpy as np\n",
    "import matplotlib.pyplot as plt\n",
    "\n",
    "x = np.linspace(0, 3*np.pi, 50)\n",
    "plt.plot(x, np.sin(x**2))\n",
    "plt.title('A simple chirp');"
   ]
  },
  {
   "cell_type": "markdown",
   "metadata": {},
   "source": [
    "## Importing data"
   ]
  },
  {
   "cell_type": "code",
   "execution_count": 45,
   "metadata": {},
   "outputs": [
    {
     "name": "stdout",
     "output_type": "stream",
     "text": [
      "[[      nan  7363000.  7736000.  7864000.  7984000.  8121000.  8233000.\n",
      "   8330000.  8441000.]\n",
      " [      nan  5187000.  5171000.  5199000.  5243000.  5176000.  5270000.\n",
      "   5337000.  5359000.]\n",
      " [      nan   191000.   209000.   229000.   272000.   277000.   285000.\n",
      "    279000.   290000.]\n",
      " [      nan    47000.   113000.   111000.   127000.   151000.   145000.\n",
      "    143000.   178000.]\n",
      " [      nan    56000.    97000.    85000.    91000.   104000.   123000.\n",
      "    135000.   134000.]]\n"
     ]
    }
   ],
   "source": [
    "import csv\n",
    "import numpy as np\n",
    "\n",
    "data = np.genfromtxt('country-of-birth-london-min.csv', skip_header=1, delimiter=';')\n",
    "print(data[:5,:])"
   ]
  },
  {
   "cell_type": "code",
   "execution_count": 33,
   "metadata": {},
   "outputs": [
    {
     "name": "stdout",
     "output_type": "stream",
     "text": [
      "[['Country']\n",
      " ['Total']\n",
      " ['United Kingdom']\n",
      " ['India']\n",
      " ['Poland']]\n"
     ]
    }
   ],
   "source": [
    "raw_data = np.genfromtxt('country-of-birth-london-min.csv', delimiter=';', dtype=None)\n",
    "names = raw_data[:5,:1].astype(str)\n",
    "print(names)"
   ]
  },
  {
   "cell_type": "code",
   "execution_count": 88,
   "metadata": {},
   "outputs": [
    {
     "name": "stdout",
     "output_type": "stream",
     "text": [
      "                   count       mean            std        min        25%  \\\n",
      "(Total,)             8.0  8009000.0  351706.046091  7363000.0  7832000.0   \n",
      "(United Kingdom,)    8.0  5242750.0   73451.149947  5171000.0  5184250.0   \n",
      "(India,)             8.0   254000.0   38459.626326   191000.0   224000.0   \n",
      "(Poland,)            8.0   126875.0   38930.111372    47000.0   112500.0   \n",
      "(Pakistan,)          8.0   103125.0   26989.085095    56000.0    89500.0   \n",
      "\n",
      "                         50%        75%        max  \n",
      "(Total,)           8052500.0  8257250.0  8441000.0  \n",
      "(United Kingdom,)  5221000.0  5286750.0  5359000.0  \n",
      "(India,)            274500.0   280500.0   290000.0  \n",
      "(Poland,)           135000.0   146500.0   178000.0  \n",
      "(Pakistan,)         100500.0   125750.0   135000.0  \n"
     ]
    }
   ],
   "source": [
    "#TODO - Calculate summary statistics\n",
    "import csv\n",
    "import numpy as np\n",
    "import pandas as pd\n",
    "data = np.genfromtxt('country-of-birth-london-min.csv', skip_header=1, delimiter=';', dtype=None)\n",
    "\n",
    "names = data[:5,:1].astype(str)\n",
    "data = data[:5,1:].astype(int)\n",
    "datapd = pd.DataFrame(data, names)\n",
    "\n",
    "print(datapd.apply(pd.DataFrame.describe, axis=1))\n",
    "\n"
   ]
  },
  {
   "cell_type": "code",
   "execution_count": 39,
   "metadata": {},
   "outputs": [
    {
     "data": {
      "text/plain": [
       "<matplotlib.text.Text at 0x1a2bac6ca90>"
      ]
     },
     "execution_count": 39,
     "metadata": {},
     "output_type": "execute_result"
    },
    {
     "data": {
      "image/png": "[encoded data removed]",
      "text/plain": [
       "<matplotlib.figure.Figure at 0x1a2badc6b70>"
      ]
     },
     "metadata": {},
     "output_type": "display_data"
    }
   ],
   "source": [
    "#TODO - Visualize summary using matplotlib charts\n",
    "%matplotlib inline\n",
    "\n",
    "import numpy as np\n",
    "import matplotlib.pyplot as plt\n",
    "import pandas as pd\n",
    "data = np.genfromtxt('country-of-birth-london-min.csv', skip_header=1, delimiter=';', dtype=None)\n",
    "\n",
    "names = data[2:5,:1].astype(str)\n",
    "data = data[2:5,1:].astype(int)\n",
    "datapd = pd.DataFrame(data, names, ('2004','2008','2009','2010','2011','2012','2013','2014'))\n",
    "datapd.transpose().plot()\n",
    "plt.title('Number of Births')\n"
   ]
  },
  {
   "cell_type": "markdown",
   "metadata": {
    "collapsed": true
   },
   "source": [
    "# Miniproject - data exploration\n",
    "\n",
    "[Global Terrorism Database](https://www.kaggle.com/START-UMD/gtd)"
   ]
  },
  {
   "cell_type": "markdown",
   "metadata": {
    "collapsed": true
   },
   "source": [
    "# Instructions:\n",
    "\n",
    "1. Download data set, Global Terrorism Database, from https://www.kaggle.com/START-UMD/gtd\n",
    "2. Take a quick look at the data set. Check what's inside, how the data is structured, and where the data is corrupted (missing values, bad structure, etc).\n",
    "3. Think and create 5 questions to the data. Try to ask yourself what's really interesting in the data set. What's not so obvious. E.g. some trends, patterns, correlations.\n",
    "4. Create a jupyter notebook and use python, numpy, pandas, matplotlib (at least) to provide all the answers to your questions.\n",
    "5. Create a new github repository, and put your jupyter notebook there.\n",
    "6. Create readme.md file as well in your github root directory with all necessary instructions (what is in the repo, what libs are necessary to run the code, where to find data set and where to save it  - this is necessary because the dataset is too big for github repo).\n",
    "7. Provide the necessary documentation and introduction in your notebook using markdown language, at least: data source description, data structure, importing process, data processing process.\n",
    "8. Put some data visualization in your notebook. Sometimes it's much easier to present the answer using a chart rather than numbers\n",
    "9. Check if your notebook run smoothly - use 'Reset & Run All' command from the menu. Save it.\n",
    "10. Export the notebook as HTML as well, and save the file in the repo.\n",
    "11. Do not forget to commit/push all the changes to your repo on hithub.\n",
    "12. Smile :) You did a good job!\n",
    "\n",
    "FAQ:\n",
    "1. Can I take a look at different solution provided at kaggle?  Yes, you can. But check more than one solution. Try to understand what the authors are trying to solve, and how could it be used in your project. Try to find really good examples - easy to understand and not so complicated. Remember - you create the notebook as an instruction to someone else! Try to not complicate the process.\n",
    "2. Can I take a look at my friend's solution, that he/she has just put on github? Yes, you can. But it's the smart way of solving the project. I'm sure that you want to be smarter in the next semester - so try to create a better solution and your own one :)\n",
    "3. Jupyter notebook provide R kernel, so can I use R instead? Nope, R sucks. Even if you love R, try to solve the project using Python.\n"
   ]
  },
  {
   "cell_type": "code",
   "execution_count": null,
   "metadata": {
    "collapsed": true
   },
   "outputs": [],
   "source": []
  }
 ],
 "metadata": {
  "kernelspec": {
   "display_name": "Python 3",
   "language": "python",
   "name": "python3"
  },
  "language_info": {
   "codemirror_mode": {
    "name": "ipython",
    "version": 3
   },
   "file_extension": ".py",
   "mimetype": "text/x-python",
   "name": "python",
   "nbconvert_exporter": "python",
   "pygments_lexer": "ipython3",
   "version": "3.6.2"
  }
 },
 "nbformat": 4,
 "nbformat_minor": 1
}
